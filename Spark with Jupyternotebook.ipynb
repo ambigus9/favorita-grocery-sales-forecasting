{
 "cells": [
  {
   "cell_type": "code",
   "execution_count": 1,
   "metadata": {
    "collapsed": true
   },
   "outputs": [],
   "source": [
    "import findspark\n",
    "findspark.init()\n",
    "\n",
    "import pyspark\n",
    "import random"
   ]
  },
  {
   "cell_type": "code",
   "execution_count": 2,
   "metadata": {},
   "outputs": [
    {
     "name": "stdout",
     "output_type": "stream",
     "text": [
      "3.14174368\n"
     ]
    }
   ],
   "source": [
    "sc = pyspark.SparkContext(appName=\"Pi\")\n",
    "num_samples = 100000000\n",
    "\n",
    "def inside(p):     \n",
    "  x, y = random.random(), random.random()\n",
    "  return x*x + y*y < 1\n",
    "\n",
    "count = sc.parallelize(range(0, num_samples)).filter(inside).count()\n",
    "\n",
    "pi = 4 * count / num_samples\n",
    "print(pi)\n",
    "\n",
    "sc.stop()"
   ]
  },
  {
   "cell_type": "code",
   "execution_count": 10,
   "metadata": {},
   "outputs": [
    {
     "name": "stdout",
     "output_type": "stream",
     "text": [
      "+---+----------+---------+--------+----------+-----------+\n",
      "| id|      date|store_nbr|item_nbr|unit_sales|onpromotion|\n",
      "+---+----------+---------+--------+----------+-----------+\n",
      "|  0|2013-01-01|       25|  103665|       7.0|       null|\n",
      "|  1|2013-01-01|       25|  105574|       1.0|       null|\n",
      "|  2|2013-01-01|       25|  105575|       2.0|       null|\n",
      "|  3|2013-01-01|       25|  108079|       1.0|       null|\n",
      "|  4|2013-01-01|       25|  108701|       1.0|       null|\n",
      "|  5|2013-01-01|       25|  108786|       3.0|       null|\n",
      "|  6|2013-01-01|       25|  108797|       1.0|       null|\n",
      "|  7|2013-01-01|       25|  108952|       1.0|       null|\n",
      "|  8|2013-01-01|       25|  111397|      13.0|       null|\n",
      "|  9|2013-01-01|       25|  114790|       3.0|       null|\n",
      "| 10|2013-01-01|       25|  114800|       1.0|       null|\n",
      "| 11|2013-01-01|       25|  115267|       1.0|       null|\n",
      "| 12|2013-01-01|       25|  115611|       1.0|       null|\n",
      "| 13|2013-01-01|       25|  115693|       1.0|       null|\n",
      "| 14|2013-01-01|       25|  115720|       5.0|       null|\n",
      "| 15|2013-01-01|       25|  115850|       1.0|       null|\n",
      "| 16|2013-01-01|       25|  115891|       6.0|       null|\n",
      "| 17|2013-01-01|       25|  115892|      10.0|       null|\n",
      "| 18|2013-01-01|       25|  115894|       5.0|       null|\n",
      "| 19|2013-01-01|       25|  119024|       1.0|       null|\n",
      "+---+----------+---------+--------+----------+-----------+\n",
      "only showing top 20 rows\n",
      "\n"
     ]
    }
   ],
   "source": [
    "from pyspark.sql import SparkSession\n",
    "from pyspark.sql import SQLContext\n",
    "from pyspark.conf import SparkConf\n",
    "\n",
    "spark = SparkSession.builder \\\n",
    "    .master(\"local\") \\\n",
    "    .appName(\"Word Count\") \\\n",
    "    .config(\"spark.some.config.option\", \"some-value\") \\\n",
    "    .getOrCreate()\n",
    "\n",
    "spark.read.format(\"csv\").option(\"header\", \"true\").load(\"data/train.csv\") \n",
    "spark.read.option(\"header\", \"true\").csv(\"data/train.csv\").show()"
   ]
  },
  {
   "cell_type": "code",
   "execution_count": null,
   "metadata": {
    "collapsed": true
   },
   "outputs": [],
   "source": []
  }
 ],
 "metadata": {
  "kernelspec": {
   "display_name": "Python 3",
   "language": "python",
   "name": "python3"
  },
  "language_info": {
   "codemirror_mode": {
    "name": "ipython",
    "version": 3
   },
   "file_extension": ".py",
   "mimetype": "text/x-python",
   "name": "python",
   "nbconvert_exporter": "python",
   "pygments_lexer": "ipython3",
   "version": "3.6.3"
  }
 },
 "nbformat": 4,
 "nbformat_minor": 2
}
